{
 "cells": [
  {
   "cell_type": "markdown",
   "metadata": {},
   "source": [
    "# Position Prediction for Football Players\n",
    "**by Ciutat Vella Team**: Tatiana Bakwenye, Natalia Beltran, Mikel Gallo"
   ]
  },
  {
   "cell_type": "markdown",
   "metadata": {},
   "source": [
    "## 0. Set Up"
   ]
  },
  {
   "cell_type": "markdown",
   "metadata": {},
   "source": [
    "#### Import Packages "
   ]
  },
  {
   "cell_type": "code",
   "execution_count": 3,
   "metadata": {},
   "outputs": [],
   "source": [
    "# Import packages\n",
    "import pandas as pd\n",
    "import numpy as np\n",
    "import matplotlib.pyplot as plt\n",
    "import seaborn as sns\n",
    "import missingno as msno\n",
    "import seaborn as sns\n",
    "import os\n",
    "import math\n",
    "from sklearn.preprocessing import LabelEncoder\n",
    "from sklearn.impute import KNNImputer\n",
    "from sklearn.model_selection import train_test_split\n",
    "from sklearn.metrics import mean_squared_error, r2_score\n",
    "from sklearn.model_selection import train_test_split\n",
    "from sklearn.datasets import make_classification\n",
    "from sklearn.ensemble import RandomForestClassifier\n",
    "from sklearn.tree import plot_tree\n",
    "from sklearn.metrics import accuracy_score, confusion_matrix\n",
    "from sklearn.utils import class_weight\n",
    "from sklearn.preprocessing import StandardScaler\n",
    "from sklearn.metrics import classification_report\n",
    "from sklearn.metrics import confusion_matrix, ConfusionMatrixDisplay\n",
    "from sklearn.model_selection import train_test_split\n",
    "from sklearn.metrics import roc_curve, auc, roc_auc_score\n",
    "import seaborn as sns\n",
    "import xgboost as xgb\n",
    "from xgboost import XGBClassifier\n",
    "import matplotlib.pyplot as plt\n",
    "from sklearn.ensemble import RandomForestClassifier\n",
    "from sklearn.model_selection import train_test_split\n",
    "from sklearn.metrics import confusion_matrix\n",
    "from sklearn.model_selection import train_test_split, TimeSeriesSplit, GridSearchCV, RandomizedSearchCV, cross_val_score\n",
    "from sklearn.preprocessing import LabelEncoder\n",
    "from sklearn.metrics import precision_score, recall_score, f1_score, confusion_matrix\n",
    "#from catboost import CatBoostClassifier\n",
    "from sklearn.model_selection import RandomizedSearchCV\n",
    "from sklearn.metrics import accuracy_score\n",
    "from scipy.stats import randint\n",
    "#from catboost import CatBoostClassifier\n",
    "from sklearn.model_selection import RandomizedSearchCV\n",
    "from sklearn.preprocessing import label_binarize\n",
    "from sklearn.metrics import roc_auc_score, roc_curve\n",
    "import matplotlib.pyplot as plt\n",
    "from scipy.stats import randint\n",
    "from sklearn.model_selection import GridSearchCV\n",
    "from sklearn.metrics import roc_auc_score, roc_curve\n",
    "from sklearn.preprocessing import label_binarize\n",
    "from sklearn.ensemble import RandomForestClassifier\n",
    "import numpy as np\n",
    "\n",
    "# # import own modules\n",
    "import function_file as fp\n",
    "from function_file import * "
   ]
  },
  {
   "cell_type": "markdown",
   "metadata": {},
   "source": [
    "#### Import Data"
   ]
  },
  {
   "cell_type": "code",
   "execution_count": 4,
   "metadata": {},
   "outputs": [
    {
     "name": "stdout",
     "output_type": "stream",
     "text": [
      "dr train (6895, 70)\n",
      "df test (767, 69)\n"
     ]
    },
    {
     "data": {
      "text/html": [
       "<div>\n",
       "<style scoped>\n",
       "    .dataframe tbody tr th:only-of-type {\n",
       "        vertical-align: middle;\n",
       "    }\n",
       "\n",
       "    .dataframe tbody tr th {\n",
       "        vertical-align: top;\n",
       "    }\n",
       "\n",
       "    .dataframe thead th {\n",
       "        text-align: right;\n",
       "    }\n",
       "</style>\n",
       "<table border=\"1\" class=\"dataframe\">\n",
       "  <thead>\n",
       "    <tr style=\"text-align: right;\">\n",
       "      <th></th>\n",
       "      <th>id</th>\n",
       "      <th>short_name</th>\n",
       "      <th>overall</th>\n",
       "      <th>potential</th>\n",
       "      <th>value_eur</th>\n",
       "      <th>wage_eur</th>\n",
       "      <th>birthday_date</th>\n",
       "      <th>height_cm</th>\n",
       "      <th>weight_kg</th>\n",
       "      <th>club_name</th>\n",
       "      <th>...</th>\n",
       "      <th>mentality_composure</th>\n",
       "      <th>defending_marking_awareness</th>\n",
       "      <th>defending_standing_tackle</th>\n",
       "      <th>defending_sliding_tackle</th>\n",
       "      <th>goalkeeping_diving</th>\n",
       "      <th>goalkeeping_handling</th>\n",
       "      <th>goalkeeping_kicking</th>\n",
       "      <th>goalkeeping_positioning</th>\n",
       "      <th>goalkeeping_reflexes</th>\n",
       "      <th>goalkeeping_speed</th>\n",
       "    </tr>\n",
       "  </thead>\n",
       "  <tbody>\n",
       "    <tr>\n",
       "      <th>0</th>\n",
       "      <td>215562</td>\n",
       "      <td>R. Hunt</td>\n",
       "      <td>63</td>\n",
       "      <td>63</td>\n",
       "      <td>475000.0</td>\n",
       "      <td>3000</td>\n",
       "      <td>1995-07-07</td>\n",
       "      <td>171</td>\n",
       "      <td>67</td>\n",
       "      <td>Swindon Town</td>\n",
       "      <td>...</td>\n",
       "      <td>57</td>\n",
       "      <td>54</td>\n",
       "      <td>59</td>\n",
       "      <td>58</td>\n",
       "      <td>15</td>\n",
       "      <td>12</td>\n",
       "      <td>12</td>\n",
       "      <td>11</td>\n",
       "      <td>15</td>\n",
       "      <td>NaN</td>\n",
       "    </tr>\n",
       "    <tr>\n",
       "      <th>1</th>\n",
       "      <td>248311</td>\n",
       "      <td>Tiri</td>\n",
       "      <td>64</td>\n",
       "      <td>64</td>\n",
       "      <td>500000.0</td>\n",
       "      <td>950</td>\n",
       "      <td>1991-07-14</td>\n",
       "      <td>186</td>\n",
       "      <td>84</td>\n",
       "      <td>ATK Mohun Bagan FC</td>\n",
       "      <td>...</td>\n",
       "      <td>55</td>\n",
       "      <td>63</td>\n",
       "      <td>63</td>\n",
       "      <td>64</td>\n",
       "      <td>9</td>\n",
       "      <td>14</td>\n",
       "      <td>9</td>\n",
       "      <td>11</td>\n",
       "      <td>6</td>\n",
       "      <td>NaN</td>\n",
       "    </tr>\n",
       "    <tr>\n",
       "      <th>2</th>\n",
       "      <td>223933</td>\n",
       "      <td>G. Nilsson</td>\n",
       "      <td>64</td>\n",
       "      <td>70</td>\n",
       "      <td>925000.0</td>\n",
       "      <td>2000</td>\n",
       "      <td>1997-05-23</td>\n",
       "      <td>197</td>\n",
       "      <td>87</td>\n",
       "      <td>SV Wehen Wiesbaden</td>\n",
       "      <td>...</td>\n",
       "      <td>55</td>\n",
       "      <td>23</td>\n",
       "      <td>25</td>\n",
       "      <td>19</td>\n",
       "      <td>6</td>\n",
       "      <td>7</td>\n",
       "      <td>8</td>\n",
       "      <td>16</td>\n",
       "      <td>14</td>\n",
       "      <td>NaN</td>\n",
       "    </tr>\n",
       "  </tbody>\n",
       "</table>\n",
       "<p>3 rows × 69 columns</p>\n",
       "</div>"
      ],
      "text/plain": [
       "       id  short_name  overall  potential  value_eur  wage_eur birthday_date  \\\n",
       "0  215562     R. Hunt       63         63   475000.0      3000    1995-07-07   \n",
       "1  248311        Tiri       64         64   500000.0       950    1991-07-14   \n",
       "2  223933  G. Nilsson       64         70   925000.0      2000    1997-05-23   \n",
       "\n",
       "   height_cm  weight_kg           club_name  ... mentality_composure  \\\n",
       "0        171         67        Swindon Town  ...                  57   \n",
       "1        186         84  ATK Mohun Bagan FC  ...                  55   \n",
       "2        197         87  SV Wehen Wiesbaden  ...                  55   \n",
       "\n",
       "   defending_marking_awareness  defending_standing_tackle  \\\n",
       "0                           54                         59   \n",
       "1                           63                         63   \n",
       "2                           23                         25   \n",
       "\n",
       "  defending_sliding_tackle goalkeeping_diving  goalkeeping_handling  \\\n",
       "0                       58                 15                    12   \n",
       "1                       64                  9                    14   \n",
       "2                       19                  6                     7   \n",
       "\n",
       "  goalkeeping_kicking  goalkeeping_positioning goalkeeping_reflexes  \\\n",
       "0                  12                       11                   15   \n",
       "1                   9                       11                    6   \n",
       "2                   8                       16                   14   \n",
       "\n",
       "   goalkeeping_speed  \n",
       "0                NaN  \n",
       "1                NaN  \n",
       "2                NaN  \n",
       "\n",
       "[3 rows x 69 columns]"
      ]
     },
     "execution_count": 4,
     "metadata": {},
     "output_type": "execute_result"
    }
   ],
   "source": [
    "# Retrieve path and load the data\n",
    "path = os.getcwd()\n",
    "dr = pd.read_csv(path+\"/train.csv\")\n",
    "dt = pd.read_csv(path+\"/test.csv\")\n",
    "\n",
    "# Number of rows and columns\n",
    "print('dr train', dr.shape)\n",
    "print('df test', dt.shape)\n",
    "\n",
    "dt.head(3)"
   ]
  },
  {
   "cell_type": "markdown",
   "metadata": {},
   "source": [
    "#### Merge Train and Test Datasets"
   ]
  },
  {
   "cell_type": "markdown",
   "metadata": {},
   "source": [
    "Create function for merging train and test datasets"
   ]
  },
  {
   "cell_type": "code",
   "execution_count": 5,
   "metadata": {},
   "outputs": [],
   "source": [
    "# Create column to differentiate train from test\n",
    "dr['is_test'] = 0\n",
    "dt['is_test'] = 1"
   ]
  },
  {
   "cell_type": "code",
   "execution_count": 6,
   "metadata": {},
   "outputs": [],
   "source": [
    "# union both datasets\n",
    "df = pd.concat([dr, dt])"
   ]
  },
  {
   "cell_type": "code",
   "execution_count": 7,
   "metadata": {},
   "outputs": [
    {
     "data": {
      "text/plain": [
       "True"
      ]
     },
     "execution_count": 7,
     "metadata": {},
     "output_type": "execute_result"
    }
   ],
   "source": [
    "# Unit test\n",
    "dr.shape[0] + dt.shape[0] == df.shape[0]"
   ]
  },
  {
   "cell_type": "code",
   "execution_count": 8,
   "metadata": {},
   "outputs": [
    {
     "data": {
      "text/plain": [
       "is_test\n",
       "0    6895\n",
       "1     767\n",
       "Name: count, dtype: int64"
      ]
     },
     "execution_count": 8,
     "metadata": {},
     "output_type": "execute_result"
    }
   ],
   "source": [
    "# Unit test\n",
    "df['is_test'].value_counts()"
   ]
  },
  {
   "cell_type": "markdown",
   "metadata": {},
   "source": [
    "#### Data Variable Breakdown"
   ]
  },
  {
   "cell_type": "markdown",
   "metadata": {},
   "source": [
    "#### player identification and overall qualification variables  \n",
    "- id: Unique identifier for each player.\n",
    "- short_name: Short name or nickname of the player. [X]\n",
    "- birthday_date: Player's date of birth. [X]\n",
    "- height_cm: Player's height in centimeters. [D]\n",
    "- weight_kg: Player's weight in kilograms. [D]\n",
    "\n",
    "- overall: Player's overall rating, representing their overall skill level [D]\n",
    "- potential: Player's potential rating, indicating their potential skill growth. [D]\n",
    "- international_reputation: Player's international reputation level. [D]\n",
    "- club_name: Name of the player's club.[X]\n",
    "- league_name: Name of the league the club belongs to.[D]\n",
    "- league_level [D]\n",
    "- club_jersey_number [D]\n",
    "- club_loaned_from [X]\n",
    "- club_joined [X]\n",
    "- club_contract_valid_until [X]\n",
    "- nationality_name [D]\n",
    "- nation_jersey_number [X]\n",
    "\n",
    "- work_rate [D]\n",
    "- body_type [D]\n",
    "- real_face [X]\n",
    "- player_tags [X]\n",
    "- player_traits [D]\n",
    "  \n",
    "#### player financial metrics  \n",
    "- value_eur: Player's market value in euros.\n",
    "- wage_eur: Player's weekly wage in euros.\n",
    "- release_clause_eur\n",
    "\n",
    "  \n",
    "#### player position related metrics  \n",
    "- position: Player's preferred playing position.[TARGET VARIABLE]\n",
    "- preferred_foot: Player's preferred kicking foot (left or right).\n",
    "- weak_foot: Player's weak foot rating, indicating their weaker kicking foot's ability.\n",
    "\n",
    "#### Skills\n",
    "- skill_dribbling\n",
    "- skill_curve\n",
    "- skill_fk_accuracy\n",
    "- skill_long_passing\n",
    "- skill_ball_control\n",
    "- skill_moves: Player's skill moves rating, representing their dribbling and ball control skills.\n",
    "\n",
    "#### high level attributes  \n",
    "- pace \n",
    "- shooting \n",
    "- passing \n",
    "- dribbling \n",
    "- defending \n",
    "- physic: Attributes representing different aspects of a player's playing style and skills.\n",
    "\n",
    "#### mentality attributes  \n",
    "- mentality_aggression\n",
    "- mentality_vision\n",
    "- mentality_composure: Attributes representing mental aspects of a player's game.\n",
    "- mentality_interceptions\n",
    "- mentality_positioning\n",
    "- mentality_penalties\n",
    "   \n",
    "#### attacking attributes  \n",
    "- attacking_crossing\n",
    "- attacking_finishing \n",
    "- attacking_heading_accuracy: Attributes related to attacking and finishing skills.'attacking_crossing', \n",
    "- attacking_heading_accuracy\n",
    "- attacking_short_passing\n",
    "- attacking_volleys\n",
    "\n",
    "#### movement attributes \n",
    "- movement_acceleration\n",
    "- movement_sprint_speed\n",
    "- movement_agility: Attributes related to a player's speed and agility.\n",
    "- movement_reactions\n",
    "- movement_balance\n",
    "\n",
    "#### strength attributes \n",
    "- power_shot_power\n",
    "- power_jumping\n",
    "- power_stamina: Attributes representing a player's physical power and endurance.\n",
    "- power_strength\n",
    "- power_long_shots\n",
    "\n",
    "#### defending attributes\n",
    "- defending_marking_awareness\n",
    "- defending_standing_tackle\n",
    "- defending_sliding_tackle: Attributes representing a player's defensive skills.\n",
    "\n",
    "\n",
    "#### Goalkeeper attributes  \n",
    "\n",
    "- goalkeeping_diving\n",
    "- goalkeeping_handling\n",
    "- goalkeeping_positioning: Goalkeeping attributes related to diving, handling, and positioning.\n",
    "- goalkeeping_reflexes\n",
    "- goalkeeping_speed: Attributes representing a goalkeeper's reflexes and speed.\n",
    "- goalkeeping_kicking\n"
   ]
  },
  {
   "cell_type": "markdown",
   "metadata": {},
   "source": [
    "## 1. Dataset Exploration"
   ]
  },
  {
   "cell_type": "markdown",
   "metadata": {},
   "source": [
    "## 2. Handling Missing Data"
   ]
  },
  {
   "cell_type": "markdown",
   "metadata": {},
   "source": [
    "#### Checking for Missing Values  "
   ]
  },
  {
   "cell_type": "code",
   "execution_count": 9,
   "metadata": {},
   "outputs": [],
   "source": [
    "def missing_value(dataset):\n",
    "    mis = dataset.isna().mean()\n",
    "    return mis[mis > 0].sort_values(ascending = False)"
   ]
  },
  {
   "cell_type": "code",
   "execution_count": 10,
   "metadata": {},
   "outputs": [
    {
     "data": {
      "text/plain": [
       "club_loaned_from        0.948316\n",
       "nation_jersey_number    0.939441\n",
       "goalkeeping_speed       0.908510\n",
       "player_tags             0.888280\n",
       "player_traits           0.375098\n",
       "position                0.100104\n",
       "pace                    0.091490\n",
       "shooting                0.091490\n",
       "passing                 0.091490\n",
       "dribbling               0.091490\n",
       "defending               0.091490\n",
       "physic                  0.091490\n",
       "release_clause_eur      0.052336\n",
       "club_joined             0.051684\n",
       "value_eur               0.000653\n",
       "dtype: float64"
      ]
     },
     "execution_count": 10,
     "metadata": {},
     "output_type": "execute_result"
    }
   ],
   "source": [
    "missing_value(df)"
   ]
  },
  {
   "cell_type": "markdown",
   "metadata": {},
   "source": [
    "### NEED TO CHECK THINK WE DIDN'T DROP THE NATION JERSEY NUMBER"
   ]
  },
  {
   "cell_type": "markdown",
   "metadata": {},
   "source": [
    "Can be dropped:\n",
    "- club_loaned_from\n",
    "- nation_jersey_number\n",
    "- player_tags\n",
    "\n",
    "Needs transformation: \n",
    "- goalkeeping_speed\n",
    "- player_traits"
   ]
  },
  {
   "cell_type": "markdown",
   "metadata": {},
   "source": [
    "##### Variable Dropping with High Missing Values "
   ]
  },
  {
   "cell_type": "code",
   "execution_count": null,
   "metadata": {},
   "outputs": [],
   "source": [
    "# Dropping the top three variables with a high percent of missing values \n",
    "columns_to_drop = ['club_loaned_from', 'nation_jersey_number', 'player_tags']\n",
    "df = df.drop(columns=columns_to_drop)"
   ]
  },
  {
   "cell_type": "markdown",
   "metadata": {},
   "source": [
    "##### Variable Transformation with NAs "
   ]
  },
  {
   "cell_type": "code",
   "execution_count": null,
   "metadata": {},
   "outputs": [],
   "source": [
    "# Goalkeeping speed\n",
    "# Function to impute NA with 0 \n",
    "def impute_column_with_zero(df, column_name):\n",
    "    df[column_name] = df[column_name].fillna(0)\n",
    "    return df\n",
    "\n",
    "df = impute_column_with_zero(df, 'goalkeeping_speed')"
   ]
  },
  {
   "cell_type": "markdown",
   "metadata": {},
   "source": [
    "### NEED TO CHECK ORDER CLEANS DATA THEN DOES VISUAL?"
   ]
  },
  {
   "cell_type": "code",
   "execution_count": null,
   "metadata": {},
   "outputs": [],
   "source": []
  },
  {
   "cell_type": "markdown",
   "metadata": {},
   "source": [
    "## 3. Feature Engineering "
   ]
  },
  {
   "cell_type": "markdown",
   "metadata": {},
   "source": [
    "### Create function for calculating players age"
   ]
  },
  {
   "cell_type": "code",
   "execution_count": null,
   "metadata": {},
   "outputs": [],
   "source": [
    "# Calculate age of players\n",
    "df['birthday_date'] = pd.to_datetime(df['birthday_date'], format='%Y-%m-%d', errors='coerce')\n",
    "df['today'] = pd.to_datetime('2022-11-01',format='%Y-%m-%d', errors='coerce')\n",
    "\n",
    "# Create the new age column \n",
    "df['age'] = ((df['today'] - df['birthday_date'])/np.timedelta64(1, 'Y'))\n",
    "df['age'] = df['age'].astype(int)"
   ]
  },
  {
   "cell_type": "markdown",
   "metadata": {},
   "source": [
    "### Create function for calculating years in the club "
   ]
  },
  {
   "cell_type": "code",
   "execution_count": null,
   "metadata": {},
   "outputs": [],
   "source": [
    "# Calculate the number of years in the club\n",
    "df['club_joined'] = pd.to_datetime(df['club_joined'], format='%Y-%m-%d', errors='coerce')\n",
    "df['today'] = pd.to_datetime('2022-11-01', format='%Y-%m-%d', errors='coerce')\n",
    "\n",
    "# Calculate the years_in_club only if 'club_joined' is not NA\n",
    "df['years_in_club'] = np.where(df['club_joined'].notna(), ((df['today'] - df['club_joined']) / np.timedelta64(1, 'Y')), np.nan)\n",
    "df['years_in_club'] = df['years_in_club'].astype(float).round(2)\n",
    "\n",
    "# Drop the 'club_joined' column\n",
    "df = df.drop('club_joined', axis=1)"
   ]
  },
  {
   "cell_type": "markdown",
   "metadata": {},
   "source": [
    "### Create function for clustering positions into goalkeeper, defender, midfielder and attacker"
   ]
  },
  {
   "cell_type": "markdown",
   "metadata": {},
   "source": [
    "df.position.unique()"
   ]
  },
  {
   "cell_type": "code",
   "execution_count": null,
   "metadata": {},
   "outputs": [],
   "source": [
    "# Creating high level position categories\n",
    "conditions = [\n",
    "    df['position'].isin(['GK']),\n",
    "     df['position'].isin(['LB','LCB','CB','RCB','RB','LWB','LDM','CDM','RDM','RWB']),\n",
    "     df['position'].isin(['LM','LCM','CM','RCM','RM']),\n",
    "     df['position'].isin(['LAM','CAM','RAM','LW','LF','CF','RF','RW','LS','ST','RS'])\n",
    "     \n",
    "]\n",
    "\n",
    "choices = ['Goalkeeper', 'Defense', 'Midfield', 'Attack']\n",
    "\n",
    "df['job'] = np.select(conditions, choices, default='other')"
   ]
  },
  {
   "cell_type": "code",
   "execution_count": null,
   "metadata": {},
   "outputs": [],
   "source": [
    "# Creating high level position\n",
    "conditions = [\n",
    "    df['position'].isin(['GK']),\n",
    "     df['position'].isin(['LB','LCB','CB','RCB','RB']),\n",
    "     df['position'].isin(['LWB','LDM','CDM','RDM','RWB']),\n",
    "     df['position'].isin(['LM','LCM','CM','RCM','RM']),\n",
    "     df['position'].isin(['LAM','CAM','RAM']),\n",
    "     df['position'].isin(['LW','LF','CF','RF','RW']),\n",
    "     df['position'].isin(['LS','ST','RS'])\n",
    "     \n",
    "]\n",
    "\n",
    "choices = ['GK', 'CB', 'CDM', 'CM','CAM','CF','ST']\n",
    "\n",
    "df['position_line'] = np.select(conditions, choices, default='other')"
   ]
  },
  {
   "cell_type": "code",
   "execution_count": null,
   "metadata": {},
   "outputs": [],
   "source": [
    "# Creating high position location\n",
    "conditions = [\n",
    "    df['position'].isin(['GK','CB','CDM','CM','CAM','CF','ST']),\n",
    "     df['position'].isin(['RCB','RDM','RCM','RAM','RF','RS']),\n",
    "     df['position'].isin(['LCB','LDM','LCM','LAM','LF','LS']),\n",
    "     df['position'].isin(['RB','RWB','RM','RW']),\n",
    "     df['position'].isin(['LB','LWB','LM','LW'])\n",
    "     \n",
    "]\n",
    "\n",
    "choices = ['CC', 'CR', 'CL', 'R','L']\n",
    "\n",
    "df['position_loc'] = np.select(conditions, choices, default='other')"
   ]
  },
  {
   "cell_type": "code",
   "execution_count": null,
   "metadata": {},
   "outputs": [],
   "source": [
    "# Creating high position location\n",
    "conditions = [\n",
    "    df['position'].isin(['LB','LWB','LM','LW','RB','RWB','RM','RW'])\n",
    "     \n",
    "]\n",
    "\n",
    "choices = ['yes']\n",
    "\n",
    "df['is_wing'] = np.select(conditions, choices, default='no')"
   ]
  },
  {
   "cell_type": "code",
   "execution_count": null,
   "metadata": {},
   "outputs": [],
   "source": [
    "# Creating high level position\n",
    "conditions = [\n",
    "    df['position'].isin(['GK']),\n",
    "     df['position'].isin(['LB','LCB','CB','RCB','RB']),\n",
    "     df['position'].isin(['LWB','LDM','CDM','RDM','RWB']),\n",
    "     df['position'].isin(['LM','LCM','CM','RCM','RM']),\n",
    "     df['position'].isin(['LAM','CAM','RAM']),\n",
    "     df['position'].isin(['LW','LF','CF','RF','RW']),\n",
    "     df['position'].isin(['LS','ST','RS'])\n",
    "     \n",
    "]\n",
    "\n",
    "choices = [0,1,2,3,4,5,6]\n",
    "\n",
    "df['position_line_ord'] = np.select(conditions, choices, default=-1)"
   ]
  },
  {
   "cell_type": "code",
   "execution_count": null,
   "metadata": {},
   "outputs": [],
   "source": [
    "conditions = [\n",
    "    df['position'].isin(['GK']),\n",
    "     df['position'].isin(['LB','LCB','CB','RCB','RB','LWB','LDM','CDM','RDM','RWB']),\n",
    "     df['position'].isin(['LM','LCM','CM','RCM','RM']),\n",
    "     df['position'].isin(['LAM','CAM','RAM','LW','LF','CF','RF','RW','LS','ST','RS'])\n",
    "     \n",
    "]\n",
    "\n",
    "choices = [0,1,2,3]\n",
    "\n",
    "df['job_order'] = np.select(conditions, choices, default=-1)"
   ]
  },
  {
   "cell_type": "code",
   "execution_count": null,
   "metadata": {},
   "outputs": [],
   "source": [
    "# extract the side of the player from the position L or R\n",
    "df.loc[:, \"side\"] = df.loc[:, \"position\"].str[0]"
   ]
  },
  {
   "cell_type": "markdown",
   "metadata": {},
   "source": [
    "### Create a copy of df without GK"
   ]
  },
  {
   "cell_type": "code",
   "execution_count": 14,
   "metadata": {},
   "outputs": [],
   "source": [
    "dk = df[(df['position']!= 'GK')&(df['is_test']== 0)]"
   ]
  },
  {
   "cell_type": "code",
   "execution_count": 15,
   "metadata": {},
   "outputs": [
    {
     "name": "stdout",
     "output_type": "stream",
     "text": [
      "(7662, 71)\n",
      "(6264, 71)\n"
     ]
    }
   ],
   "source": [
    "# Unit test\n",
    "print(df.shape)\n",
    "print(dk.shape)"
   ]
  },
  {
   "cell_type": "markdown",
   "metadata": {},
   "source": [
    "## Train & Test Models "
   ]
  },
  {
   "cell_type": "markdown",
   "metadata": {},
   "source": [
    "## Final Model"
   ]
  },
  {
   "cell_type": "markdown",
   "metadata": {},
   "source": [
    "## Conclusion"
   ]
  }
 ],
 "metadata": {
  "kernelspec": {
   "display_name": "base",
   "language": "python",
   "name": "python3"
  },
  "language_info": {
   "codemirror_mode": {
    "name": "ipython",
    "version": 3
   },
   "file_extension": ".py",
   "mimetype": "text/x-python",
   "name": "python",
   "nbconvert_exporter": "python",
   "pygments_lexer": "ipython3",
   "version": "3.11.4"
  },
  "orig_nbformat": 4
 },
 "nbformat": 4,
 "nbformat_minor": 2
}
